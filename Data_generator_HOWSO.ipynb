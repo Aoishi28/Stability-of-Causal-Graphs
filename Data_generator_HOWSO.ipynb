{
  "nbformat": 4,
  "nbformat_minor": 0,
  "metadata": {
    "colab": {
      "provenance": []
    },
    "kernelspec": {
      "name": "python3",
      "display_name": "Python 3"
    },
    "language_info": {
      "name": "python"
    }
  },
  "cells": [
    {
      "cell_type": "markdown",
      "source": [
        "### Install the required libraries"
      ],
      "metadata": {
        "id": "Cy2g5YCsCVKS"
      }
    },
    {
      "cell_type": "code",
      "source": [
        "!pip install howso-engine"
      ],
      "metadata": {
        "colab": {
          "base_uri": "https://localhost:8080/"
        },
        "id": "C1OcIWOOESlW",
        "outputId": "ddc64ae9-af22-4710-f896-c19d475eea9d"
      },
      "execution_count": null,
      "outputs": [
        {
          "output_type": "stream",
          "name": "stdout",
          "text": [
            "Collecting howso-engine\n",
            "  Downloading howso_engine-9.2.0-py3-none-any.whl (449 kB)\n",
            "\u001b[?25l     \u001b[90m━━━━━━━━━━━━━━━━━━━━━━━━━━━━━━━━━━━━━━━━\u001b[0m \u001b[32m0.0/449.6 kB\u001b[0m \u001b[31m?\u001b[0m eta \u001b[36m-:--:--\u001b[0m\r\u001b[2K     \u001b[91m━━━━━━━━━━━━━━━━━━━\u001b[0m\u001b[90m╺\u001b[0m\u001b[90m━━━━━━━━━━━━━━━━━━━━\u001b[0m \u001b[32m215.0/449.6 kB\u001b[0m \u001b[31m6.2 MB/s\u001b[0m eta \u001b[36m0:00:01\u001b[0m\r\u001b[2K     \u001b[90m━━━━━━━━━━━━━━━━━━━━━━━━━━━━━━━━━━━━━━━━\u001b[0m \u001b[32m449.6/449.6 kB\u001b[0m \u001b[31m8.8 MB/s\u001b[0m eta \u001b[36m0:00:00\u001b[0m\n",
            "\u001b[?25hRequirement already satisfied: certifi in /usr/local/lib/python3.10/dist-packages (from howso-engine) (2023.7.22)\n",
            "Requirement already satisfied: cryptography>=2.9.2 in /usr/local/lib/python3.10/dist-packages (from howso-engine) (41.0.5)\n",
            "Collecting deprecation<3,>=2.1.0 (from howso-engine)\n",
            "  Downloading deprecation-2.1.0-py2.py3-none-any.whl (11 kB)\n",
            "Collecting Faker>=4.1.1 (from howso-engine)\n",
            "  Downloading Faker-20.1.0-py3-none-any.whl (1.7 MB)\n",
            "\u001b[2K     \u001b[90m━━━━━━━━━━━━━━━━━━━━━━━━━━━━━━━━━━━━━━━━\u001b[0m \u001b[32m1.7/1.7 MB\u001b[0m \u001b[31m48.3 MB/s\u001b[0m eta \u001b[36m0:00:00\u001b[0m\n",
            "\u001b[?25hRequirement already satisfied: humanize>=4.0.0 in /usr/local/lib/python3.10/dist-packages (from howso-engine) (4.7.0)\n",
            "Collecting mmh3 (from howso-engine)\n",
            "  Downloading mmh3-4.0.1-cp310-cp310-manylinux_2_5_x86_64.manylinux1_x86_64.manylinux_2_17_x86_64.manylinux2014_x86_64.whl (72 kB)\n",
            "\u001b[2K     \u001b[90m━━━━━━━━━━━━━━━━━━━━━━━━━━━━━━━━━━━━━━━━\u001b[0m \u001b[32m72.6/72.6 kB\u001b[0m \u001b[31m9.5 MB/s\u001b[0m eta \u001b[36m0:00:00\u001b[0m\n",
            "\u001b[?25hRequirement already satisfied: numpy in /usr/local/lib/python3.10/dist-packages (from howso-engine) (1.23.5)\n",
            "Requirement already satisfied: pandas in /usr/local/lib/python3.10/dist-packages (from howso-engine) (1.5.3)\n",
            "Collecting pyjwt<3,>=2.6.0 (from howso-engine)\n",
            "  Downloading PyJWT-2.8.0-py3-none-any.whl (22 kB)\n",
            "Requirement already satisfied: pyyaml<7.0,>=6.0.1 in /usr/local/lib/python3.10/dist-packages (from howso-engine) (6.0.1)\n",
            "Requirement already satisfied: rich>=12.5.1 in /usr/local/lib/python3.10/dist-packages (from howso-engine) (13.7.0)\n",
            "Requirement already satisfied: scikit-learn in /usr/local/lib/python3.10/dist-packages (from howso-engine) (1.2.2)\n",
            "Collecting semantic-version<3,>=2.8.5 (from howso-engine)\n",
            "  Downloading semantic_version-2.10.0-py2.py3-none-any.whl (15 kB)\n",
            "Requirement already satisfied: typing-extensions<5.0,>=4.1.0 in /usr/local/lib/python3.10/dist-packages (from howso-engine) (4.5.0)\n",
            "Collecting urllib3<=2,>=1.26.2 (from howso-engine)\n",
            "  Downloading urllib3-1.26.18-py2.py3-none-any.whl (143 kB)\n",
            "\u001b[2K     \u001b[90m━━━━━━━━━━━━━━━━━━━━━━━━━━━━━━━━━━━━━━━━\u001b[0m \u001b[32m143.8/143.8 kB\u001b[0m \u001b[31m18.9 MB/s\u001b[0m eta \u001b[36m0:00:00\u001b[0m\n",
            "\u001b[?25hCollecting howso-openapi-client<26.0.0,>=25.0.11 (from howso-engine)\n",
            "  Downloading howso_openapi_client-25.0.11-py3-none-any.whl (380 kB)\n",
            "\u001b[2K     \u001b[90m━━━━━━━━━━━━━━━━━━━━━━━━━━━━━━━━━━━━━━━━\u001b[0m \u001b[32m380.6/380.6 kB\u001b[0m \u001b[31m47.6 MB/s\u001b[0m eta \u001b[36m0:00:00\u001b[0m\n",
            "\u001b[?25hCollecting amalgam-lang==5.0.0 (from howso-engine)\n",
            "  Downloading amalgam_lang-5.0.0-py3-none-manylinux_2_29_x86_64.whl (4.9 MB)\n",
            "\u001b[2K     \u001b[90m━━━━━━━━━━━━━━━━━━━━━━━━━━━━━━━━━━━━━━━━\u001b[0m \u001b[32m4.9/4.9 MB\u001b[0m \u001b[31m105.7 MB/s\u001b[0m eta \u001b[36m0:00:00\u001b[0m\n",
            "\u001b[?25hRequirement already satisfied: cffi>=1.12 in /usr/local/lib/python3.10/dist-packages (from cryptography>=2.9.2->howso-engine) (1.16.0)\n",
            "Requirement already satisfied: packaging in /usr/local/lib/python3.10/dist-packages (from deprecation<3,>=2.1.0->howso-engine) (23.2)\n",
            "Requirement already satisfied: python-dateutil>=2.4 in /usr/local/lib/python3.10/dist-packages (from Faker>=4.1.1->howso-engine) (2.8.2)\n",
            "Requirement already satisfied: six>=1.10 in /usr/local/lib/python3.10/dist-packages (from howso-openapi-client<26.0.0,>=25.0.11->howso-engine) (1.16.0)\n",
            "Requirement already satisfied: setuptools>=21.0.0 in /usr/local/lib/python3.10/dist-packages (from howso-openapi-client<26.0.0,>=25.0.11->howso-engine) (67.7.2)\n",
            "Requirement already satisfied: markdown-it-py>=2.2.0 in /usr/local/lib/python3.10/dist-packages (from rich>=12.5.1->howso-engine) (3.0.0)\n",
            "Requirement already satisfied: pygments<3.0.0,>=2.13.0 in /usr/local/lib/python3.10/dist-packages (from rich>=12.5.1->howso-engine) (2.16.1)\n",
            "Requirement already satisfied: pytz>=2020.1 in /usr/local/lib/python3.10/dist-packages (from pandas->howso-engine) (2023.3.post1)\n",
            "Requirement already satisfied: scipy>=1.3.2 in /usr/local/lib/python3.10/dist-packages (from scikit-learn->howso-engine) (1.11.3)\n",
            "Requirement already satisfied: joblib>=1.1.1 in /usr/local/lib/python3.10/dist-packages (from scikit-learn->howso-engine) (1.3.2)\n",
            "Requirement already satisfied: threadpoolctl>=2.0.0 in /usr/local/lib/python3.10/dist-packages (from scikit-learn->howso-engine) (3.2.0)\n",
            "Requirement already satisfied: pycparser in /usr/local/lib/python3.10/dist-packages (from cffi>=1.12->cryptography>=2.9.2->howso-engine) (2.21)\n",
            "Requirement already satisfied: mdurl~=0.1 in /usr/local/lib/python3.10/dist-packages (from markdown-it-py>=2.2.0->rich>=12.5.1->howso-engine) (0.1.2)\n",
            "Installing collected packages: mmh3, urllib3, semantic-version, pyjwt, deprecation, amalgam-lang, howso-openapi-client, Faker, howso-engine\n",
            "  Attempting uninstall: urllib3\n",
            "    Found existing installation: urllib3 2.0.7\n",
            "    Uninstalling urllib3-2.0.7:\n",
            "      Successfully uninstalled urllib3-2.0.7\n",
            "  Attempting uninstall: pyjwt\n",
            "    Found existing installation: PyJWT 2.3.0\n",
            "    Uninstalling PyJWT-2.3.0:\n",
            "      Successfully uninstalled PyJWT-2.3.0\n",
            "Successfully installed Faker-20.1.0 amalgam-lang-5.0.0 deprecation-2.1.0 howso-engine-9.2.0 howso-openapi-client-25.0.11 mmh3-4.0.1 pyjwt-2.8.0 semantic-version-2.10.0 urllib3-1.26.18\n"
          ]
        }
      ]
    },
    {
      "cell_type": "markdown",
      "source": [
        "### Generating the synthetic data"
      ],
      "metadata": {
        "id": "ePZb7jPkCeBP"
      }
    },
    {
      "cell_type": "code",
      "execution_count": null,
      "metadata": {
        "colab": {
          "base_uri": "https://localhost:8080/"
        },
        "id": "8SYIDa40EQhj",
        "outputId": "e13f70eb-847f-455b-fc15-f6d7a843c9f4"
      },
      "outputs": [
        {
          "output_type": "stream",
          "name": "stdout",
          "text": [
            "ivy-1.1_Copy\n",
            "Working on file ->  ivy-1.1_Copy\n",
            "(1776, 21)\n",
            "Data genaration completed\n",
            "------------------------------\n",
            "ivy-1.4_Copy\n",
            "Working on file ->  ivy-1.4_Copy\n",
            "(3856, 21)\n",
            "Data genaration completed\n",
            "------------------------------\n",
            "ivy-2.0_Copy\n",
            "Working on file ->  ivy-2.0_Copy\n",
            "(5632, 21)\n",
            "Data genaration completed\n",
            "------------------------------\n"
          ]
        }
      ],
      "source": [
        "from howso import engine\n",
        "from howso.engine import Trainee\n",
        "from howso.utilities import infer_feature_attributes\n",
        "\n",
        "import pandas as pd\n",
        "import os\n",
        "\n",
        "def howso_runner(df, feature_attr):\n",
        "    features = infer_feature_attributes(df)\n",
        "\n",
        "    for key in feature_attr:\n",
        "        for subkey in feature_attr[key]:\n",
        "            if isinstance(feature_attr[key][subkey], dict):\n",
        "                for subsubkey in feature_attr[key][subkey]:\n",
        "                    features[key][subkey][subsubkey] = feature_attr[key][subkey][subsubkey]\n",
        "            else:\n",
        "                features[key][subkey] = feature_attr[key][subkey]\n",
        "\n",
        "    t = Trainee(\n",
        "        features=features,\n",
        "        overwrite_existing=True\n",
        "    )\n",
        "\n",
        "    t.train(df)\n",
        "    t.analyze()\n",
        "\n",
        "    # if f_name in [\"profb\", \"breast_cancer\", \"tic_tac_toe\"]:\n",
        "    synth = t.react(action_features=df.columns.tolist(),\n",
        "                    desired_conviction=5,\n",
        "                    generate_new_cases=\"no\",\n",
        "                    num_cases_to_generate=16*len(df)) # Change the number to denote the size of the synthetic data you want. In this case it generates 16 times the len of original data\n",
        "    # else:\n",
        "    #     synth = t.react(action_features=df.columns.tolist(),\n",
        "    #                     desired_conviction=5,\n",
        "    #                     generate_new_cases=\"always\",\n",
        "    #                     num_cases_to_generate=len(df))\n",
        "\n",
        "    return synth['action']\n",
        "\n",
        "filepaths = ['/content/ivy-1.1_Copy.csv','/content/ivy-1.4_Copy.csv','/content/ivy-2.0_Copy.csv'] # Replace these with the paths of the data files you want to use\n",
        "for f_path in filepaths:\n",
        "  filename = f_path.split('/')[-1][:-4]\n",
        "  print(filename)\n",
        "  df = pd.read_csv(f_path)\n",
        "  print(\"Working on file -> \", filename)\n",
        "  # print(df)\n",
        "  # feature_attr = {\"cars_per_hour\": {\"type\": \"ordinal\",\n",
        "  #                                   \"original_type\": {\"data_type\": \"adb\"},\n",
        "  #                                   \"non_sensitive\": True},\n",
        "  #                 \"day\": {\"type\": \"ordinal\",\n",
        "  #                         \"original_type\": {\"data_type\": \"bde\", \"size\": 16},\n",
        "  #                         \"non_sensitive\": True}\n",
        "  #                 }\n",
        "  feature_attr = {}\n",
        "  new_df = howso_runner(df, feature_attr)\n",
        "  print(new_df.shape)\n",
        "  print('Data genaration completed')\n",
        "  print(\"------------------------------\")\n",
        "\n",
        "  # This code will save the generated file as a csv file\n",
        "  new_file = filename + \"-16x.csv\"\n",
        "  new_df.to_csv(new_file, index = False)"
      ]
    },
    {
      "cell_type": "code",
      "source": [],
      "metadata": {
        "id": "tTh6yF3lH9pH"
      },
      "execution_count": null,
      "outputs": []
    }
  ]
}