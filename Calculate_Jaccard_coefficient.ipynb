{
  "nbformat": 4,
  "nbformat_minor": 0,
  "metadata": {
    "colab": {
      "provenance": []
    },
    "kernelspec": {
      "name": "python3",
      "display_name": "Python 3"
    },
    "language_info": {
      "name": "python"
    }
  },
  "cells": [
    {
      "cell_type": "markdown",
      "source": [
        "### Installing the dependencies"
      ],
      "metadata": {
        "id": "KMqkUHfGFS7A"
      }
    },
    {
      "cell_type": "code",
      "source": [
        "pip install networkx"
      ],
      "metadata": {
        "colab": {
          "base_uri": "https://localhost:8080/"
        },
        "id": "msgqIO2PwVaF",
        "outputId": "2ce7ab40-756d-49d5-f91b-f63dff17cdcb"
      },
      "execution_count": null,
      "outputs": [
        {
          "output_type": "stream",
          "name": "stdout",
          "text": [
            "Requirement already satisfied: networkx in /usr/local/lib/python3.10/dist-packages (3.2.1)\n"
          ]
        }
      ]
    },
    {
      "cell_type": "code",
      "execution_count": null,
      "metadata": {
        "colab": {
          "base_uri": "https://localhost:8080/"
        },
        "id": "wZAknMQguUZB",
        "outputId": "6605bd43-448f-4c97-dd76-5f83d5067d71"
      },
      "outputs": [
        {
          "output_type": "stream",
          "name": "stdout",
          "text": [
            "Edges in graph 1:  defaultdict(<class 'set'>, {'ca': {('cbo', '-->'), ('mfa', '-->')}, 'cbo': {('wmc', '-->'), ('max_cc', '-->'), ('ca', '-->'), ('lcom', '-->')}, 'cam': {('rfc', '-->'), ('cbm', '-->'), ('avg_cc', '-->'), ('dam', 'o->'), ('ic', '<->'), ('lcom3', '<->')}, 'cbm': {('rfc', '<->'), ('cam', '-->'), ('ic', '-->'), ('mfa', '-->')}, 'ic': {('mfa', '<->'), ('dit', '<->'), ('cbm', '-->'), ('cam', '<->')}, 'dam': {('cam', 'o->'), ('lcom3', 'o->')}, 'dit': {('ic', '<->'), ('moa', '<->'), ('mfa', '-->')}, 'max_cc': {('cbo', '-->'), ('avg_cc', '<->'), ('loc', '<->'), ('rfc', '-->')}, 'avg_cc': {('mfa', '<->'), ('cam', '-->'), ('max_cc', '<->'), ('amc', 'o->')}, 'mfa': {('dit', '-->'), ('cbm', '-->'), ('ic', '<->'), ('ca', '-->'), ('avg_cc', '<->')}, 'npm': {('ce', '-->'), ('lcom', '<->'), ('bug', '<->'), ('wmc', '-->')}, 'bug': {('noc', 'o->'), ('npm', '<->'), ('lcom', '-->'), ('amc', '-->')}, 'ce': {('rfc', '<->'), ('npm', '-->')}, 'rfc': {('loc', '<->'), ('cam', '-->'), ('max_cc', '-->'), ('ce', '<->'), ('wmc', '-->'), ('cbm', '<->')}, 'wmc': {('moa', '-->'), ('cbo', '-->'), ('loc', '<->'), ('npm', '-->'), ('rfc', '-->')}, 'moa': {('wmc', '-->'), ('dit', '<->')}, 'loc': {('rfc', '<->'), ('lcom', 'o->'), ('wmc', '<->'), ('max_cc', '<->')}, 'noc': {('bug', 'o->')}, 'amc': {('bug', '-->'), ('avg_cc', 'o->')}, 'lcom3': {('dam', 'o->'), ('cam', '<->')}, 'lcom': {('cbo', '-->'), ('npm', '<->'), ('loc', 'o->'), ('bug', '-->')}})\n",
            "\n",
            "Edges in graph 2:  defaultdict(<class 'set'>, {'amc': {('ca', '<->'), ('max_cc', '-->'), ('cam', '<->'), ('dam', '<->'), ('avg_cc', '<->')}, 'avg_cc': {('max_cc', '-->'), ('amc', '<->')}, 'bug': {('wmc', '-->'), ('lcom', '-->'), ('rfc', '-->'), ('loc', '-->')}, 'lcom': {('wmc', '-->'), ('bug', '-->')}, 'ca': {('mfa', '<->'), ('amc', '<->'), ('cbo', '<->')}, 'mfa': {('dit', '-->'), ('ce', '<->'), ('ic', '-->'), ('ca', '<->')}, 'cam': {('moa', '-->'), ('lcom3', '-->'), ('dam', 'o->'), ('amc', '<->'), ('noc', '-->')}, 'dam': {('moa', '-->'), ('cam', 'o->'), ('ic', '-->'), ('lcom3', '-->'), ('amc', '<->')}, 'lcom3': {('cam', '-->'), ('dam', '-->')}, 'noc': {('cam', '-->')}, 'cbo': {('rfc', '<->'), ('ce', '<->'), ('ca', '<->'), ('wmc', '-->')}, 'ce': {('wmc', '<->'), ('mfa', '<->'), ('rfc', '-->'), ('cbo', '<->')}, 'rfc': {('ce', '-->'), ('wmc', '<->'), ('max_cc', '-->'), ('cbo', '<->'), ('loc', '-->'), ('bug', '-->')}, 'wmc': {('cbo', '-->'), ('moa', '-->'), ('npm', '-->'), ('ce', '<->'), ('lcom', '-->'), ('loc', '-->'), ('rfc', '<->'), ('bug', '-->')}, 'dit': {('mfa', '-->'), ('cbm', '-->'), ('ic', 'o-o')}, 'cbm': {('dit', '-->'), ('ic', '-->')}, 'ic': {('npm', '-->'), ('cbm', '-->'), ('mfa', '-->'), ('dam', '-->'), ('dit', 'o-o')}, 'npm': {('wmc', '-->'), ('ic', '-->')}, 'loc': {('wmc', '-->'), ('rfc', '-->'), ('bug', '-->'), ('max_cc', 'o->')}, 'max_cc': {('avg_cc', '-->'), ('amc', '-->'), ('rfc', '-->'), ('loc', 'o->')}, 'moa': {('wmc', '-->'), ('cam', '-->'), ('dam', '-->')}})\n",
            "Jaccard Coefficient: 0.11764705882352941\n"
          ]
        }
      ],
      "source": [
        "import re\n",
        "import matplotlib.pyplot as plt\n",
        "import networkx as nx\n",
        "from collections import defaultdict\n",
        "\n",
        "def parse_input(input_str):\n",
        "    # Regex to match \"Node1 edge_type Node2\"\n",
        "    pattern = re.compile(r'(\\b[\\w\\s]+\\b)\\s+((?:<->)|(?:o->)|(?:-->)|(?:o-o))\\s+(\\b[\\w\\s]+\\b)')\n",
        "    edges = defaultdict(set)\n",
        "    for line in input_str.strip().split('\\n'):\n",
        "        match = pattern.search(line)\n",
        "        if match:\n",
        "            node1, edge_type, node2 = match.groups()\n",
        "            # Normalize the nodes' name to handle inconsistencies like leading/trailing whitespaces\n",
        "            node1, node2 = node1.strip(), node2.strip()\n",
        "            # We consider the edge type as part of the edge identity\n",
        "            edges[node1].add((node2, edge_type))\n",
        "            edges[node2].add((node1, edge_type))  # For undirected graph\n",
        "\n",
        "    return edges\n",
        "\n",
        "\n",
        "def jaccard_coefficient(graph1, graph2):\n",
        "    # Flatten the sets of edges and make them hashable\n",
        "    edges1 = set(frozenset((node, *edge)) for node, edges in graph1.items() for edge in edges)\n",
        "    edges2 = set(frozenset((node, *edge)) for node, edges in graph2.items() for edge in edges)\n",
        "\n",
        "    intersection = edges1.intersection(edges2)\n",
        "    union = edges1.union(edges2)\n",
        "\n",
        "    return len(intersection) / len(union) if union else 1  # handle case both graphs are empty\n",
        "\n",
        "# Input strings for the two graphs\n",
        "input_str1 = \"\"\"\n",
        "ca\t-->\tcbo\n",
        "\tcam\t-->\tcbm\n",
        "\tcam\t<->\tic\n",
        "\tdam\to->\tcam\n",
        "\tdit\t<->\tic\n",
        "\tic\t-->\tcbm\n",
        "\tmax_cc\t<->\tavg_cc\n",
        "\tmax_cc\t-->\tcbo\n",
        "\tmfa\t<->\tavg_cc\n",
        "\tmfa\t-->\tca\n",
        "\tmfa\t-->\tcbm\n",
        "\tmfa\t<->\tic\n",
        "\tnpm\t<->\tbug\n",
        "\tnpm\t-->\tce\n",
        "\trfc\t-->\twmc\n",
        "\twmc\t-->\tcbo\n",
        "\twmc\t-->\tmoa\n",
        "\tdit\t-->\tmfa\n",
        "\tdit\t<->\tmoa\n",
        "\tloc\t<->\tmax_cc\n",
        "\tnoc\to->\tbug\n",
        "\trfc\t<->\tloc\n",
        "\twmc\t<->\tloc\n",
        "\twmc\t-->\tnpm\n",
        "\tamc\to->\tavg_cc\n",
        "\tamc\t-->\tbug\n",
        "\tavg_cc\t-->\tcam\n",
        "\tcam\t-->\trfc\n",
        "\tdam\to->\tlcom3\n",
        "\tlcom\t<->\tnpm\n",
        "\tlcom3\t<->\tcam\n",
        "\tmax_cc\t-->\trfc\n",
        "\trfc\t<->\tcbm\n",
        "\trfc\t<->\tce\n",
        "\tlcom\t-->\tbug\n",
        "\tlcom\t-->\tcbo\n",
        "\tlcom\to->\tloc\n",
        "\"\"\"\n",
        "\n",
        "input_str2 = \"\"\"\n",
        "amc\t<->\tavg_cc\n",
        "\tbug\t-->\tlcom\n",
        "\tca\t<->\tamc\n",
        "\tca\t<->\tmfa\n",
        "\tcam\t<->\tamc\n",
        "\tcam\to->\tdam\n",
        "\tcam\t-->\tlcom3\n",
        "\tcam\t-->\tnoc\n",
        "\tcbo\t<->\tca\n",
        "\tcbo\t<->\tce\n",
        "\tcbo\t<->\trfc\n",
        "\tcbo\t-->\twmc\n",
        "\tce\t<->\tmfa\n",
        "\tce\t-->\trfc\n",
        "\tce\t<->\twmc\n",
        "\tdam\t<->\tamc\n",
        "\tdam\t-->\tlcom3\n",
        "\tdit\t-->\tcbm\n",
        "\tic\t-->\tcbm\n",
        "\tic\t-->\tdam\n",
        "\tic\to-o\tdit\n",
        "\tic\t-->\tnpm\n",
        "\tloc\t-->\tbug\n",
        "\tmax_cc\t-->\tamc\n",
        "\tmax_cc\t-->\tavg_cc\n",
        "\tmax_cc\to->\tloc\n",
        "\tmfa\t-->\tdit\n",
        "\tmfa\t-->\tic\n",
        "\tmoa\t-->\tcam\n",
        "\tmoa\t-->\tdam\n",
        "\trfc\t-->\tbug\n",
        "\trfc\t-->\tloc\n",
        "\trfc\t-->\tmax_cc\n",
        "\trfc\t<->\twmc\n",
        "\twmc\t-->\tbug\n",
        "\twmc\t-->\tlcom\n",
        "\twmc\t-->\tloc\n",
        "\twmc\t-->\tmoa\n",
        "\twmc\t-->\tnpm\n",
        "\"\"\"\n",
        "\n",
        "# Parse the input strings to get graph representations\n",
        "graph1 = parse_input(input_str1)\n",
        "print(\"Edges in graph 1: \", graph1)\n",
        "print()\n",
        "graph2 = parse_input(input_str2)\n",
        "print(\"Edges in graph 2: \", graph2)\n",
        "\n",
        "# Calculate the Jaccard coefficient\n",
        "jc = jaccard_coefficient(graph1, graph2)\n",
        "print(f'Jaccard Coefficient: {jc}')\n"
      ]
    },
    {
      "cell_type": "code",
      "source": [],
      "metadata": {
        "id": "xYeDGBa5SDsV"
      },
      "execution_count": null,
      "outputs": []
    }
  ]
}